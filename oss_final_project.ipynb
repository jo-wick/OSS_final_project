{
 "cells": [
  {
   "cell_type": "code",
   "execution_count": 74,
   "metadata": {},
   "outputs": [],
   "source": [
    "from sklearn.linear_model import LinearRegression\n",
    "import pandas as pd\n",
    "import numpy as np\n",
    "import matplotlib.pyplot as plt"
   ]
  },
  {
   "cell_type": "code",
   "execution_count": 75,
   "metadata": {},
   "outputs": [],
   "source": [
    "# 채무 gap 평균 증가량을 (21개 기준)으로 평균 값을 낸 뒤\n",
    "# 2020년 채무 gdp에 더한 뒤 나눴을 때 60%가 넘는지 확인한뒤\n",
    "# 넘지 않는다면 2021년 채무 gdp를 더해 다시 평균 증가량을 구해준뒤\n",
    "# 다시 나눠 60%가 넘는지 확인한 뒤 60%가 넘을 때까지 확인한다.\n",
    "\n",
    "# 그런 다음 linear regression을 이용하여 그래프 등을 그린다!"
   ]
  },
  {
   "cell_type": "code",
   "execution_count": 95,
   "metadata": {},
   "outputs": [
    {
     "name": "stdout",
     "output_type": "stream",
     "text": [
      "It is a program that predicts monthly income by entering the number of household members, the age of household owners, and the income quintile!\n"
     ]
    },
    {
     "data": {
      "text/html": [
       "<div>\n",
       "<style scoped>\n",
       "    .dataframe tbody tr th:only-of-type {\n",
       "        vertical-align: middle;\n",
       "    }\n",
       "\n",
       "    .dataframe tbody tr th {\n",
       "        vertical-align: top;\n",
       "    }\n",
       "\n",
       "    .dataframe thead th {\n",
       "        text-align: right;\n",
       "    }\n",
       "</style>\n",
       "<table border=\"1\" class=\"dataframe\">\n",
       "  <thead>\n",
       "    <tr style=\"text-align: right;\">\n",
       "      <th></th>\n",
       "      <th>가구원수</th>\n",
       "      <th>가구주연령</th>\n",
       "      <th>소득</th>\n",
       "      <th>소득분위</th>\n",
       "    </tr>\n",
       "  </thead>\n",
       "  <tbody>\n",
       "    <tr>\n",
       "      <th>0</th>\n",
       "      <td>1.66</td>\n",
       "      <td>59.93</td>\n",
       "      <td>328539</td>\n",
       "      <td>1</td>\n",
       "    </tr>\n",
       "    <tr>\n",
       "      <th>1</th>\n",
       "      <td>1.59</td>\n",
       "      <td>61.47</td>\n",
       "      <td>359373</td>\n",
       "      <td>1</td>\n",
       "    </tr>\n",
       "    <tr>\n",
       "      <th>2</th>\n",
       "      <td>1.56</td>\n",
       "      <td>62.29</td>\n",
       "      <td>334742</td>\n",
       "      <td>1</td>\n",
       "    </tr>\n",
       "    <tr>\n",
       "      <th>3</th>\n",
       "      <td>1.53</td>\n",
       "      <td>62.01</td>\n",
       "      <td>377784</td>\n",
       "      <td>1</td>\n",
       "    </tr>\n",
       "    <tr>\n",
       "      <th>4</th>\n",
       "      <td>1.58</td>\n",
       "      <td>63.36</td>\n",
       "      <td>345667</td>\n",
       "      <td>1</td>\n",
       "    </tr>\n",
       "  </tbody>\n",
       "</table>\n",
       "</div>"
      ],
      "text/plain": [
       "   가구원수  가구주연령      소득  소득분위\n",
       "0  1.66  59.93  328539     1\n",
       "1  1.59  61.47  359373     1\n",
       "2  1.56  62.29  334742     1\n",
       "3  1.53  62.01  377784     1\n",
       "4  1.58  63.36  345667     1"
      ]
     },
     "execution_count": 95,
     "metadata": {},
     "output_type": "execute_result"
    }
   ],
   "source": [
    "print('It is a program that predicts monthly income by entering the number of household members, the age of household owners, and the income quintile!')\n",
    "df = pd.read_csv(\"data.csv\")\n",
    "df.dropna()\n",
    "\n",
    "df.head()"
   ]
  },
  {
   "cell_type": "code",
   "execution_count": 77,
   "metadata": {},
   "outputs": [],
   "source": [
    "from sklearn.model_selection import train_test_split\n",
    "\n",
    "#train data X = (현재까지 평균 gdp, 현재까지 평균 채무, 현재 gdp, 현재 채무)\n",
    "#train data Y = (다음 년도 gdp, 다음 년도 채무)\n",
    "\n",
    "x = df[['가구원수','가구주연령', '소득분위']]\n",
    "y = df[['소득']]\n",
    "\n",
    "\n",
    "x_train, x_test, y_train, y_test = train_test_split(x, y, train_size=0.7, test_size=0.3)\n"
   ]
  },
  {
   "cell_type": "code",
   "execution_count": 78,
   "metadata": {},
   "outputs": [
    {
     "data": {
      "text/plain": [
       "LinearRegression()"
      ]
     },
     "execution_count": 78,
     "metadata": {},
     "output_type": "execute_result"
    }
   ],
   "source": [
    "lr = LinearRegression()\n",
    "lr.fit(x_train, y_train)"
   ]
  },
  {
   "cell_type": "code",
   "execution_count": 80,
   "metadata": {},
   "outputs": [],
   "source": [
    "y_predict = lr.predict(x_test)\n",
    "# y_predict1 = y_predict\n",
    "# y_predict2 = y_predict\n",
    "# print(y_predict)\n",
    "# print(y_test)\n",
    "# # print(y_predict)\n",
    "# print(y_predict.size)\n",
    "# range1 = y_predict.size/2\n",
    "# range1 = int(range1)\n",
    "# y_year = []\n",
    "# y_rate = []\n",
    "# print(range1)\n",
    "# for i in range(1, range1+1):\n",
    "#     y_year = np.append(y_year, y_predict[i-1][1])\n",
    "#     y_rate = np.append(y_rate, y_predict[i-1][0])\n",
    "# print(y_year.size)\n",
    "# print(y_rate.size)\n",
    "# print(y_year)\n",
    "# print(y_rate)"
   ]
  },
  {
   "cell_type": "code",
   "execution_count": 93,
   "metadata": {},
   "outputs": [
    {
     "name": "stdout",
     "output_type": "stream",
     "text": [
      "The closer the graph is to a straight line, the more accurate it is.\n"
     ]
    },
    {
     "data": {
      "image/png": "[encoded data removed]",
      "text/plain": [
       "<Figure size 432x288 with 1 Axes>"
      ]
     },
     "metadata": {
      "needs_background": "light"
     },
     "output_type": "display_data"
    }
   ],
   "source": [
    "import matplotlib.pyplot as plt\n",
    "\n",
    "# plt.scatter(y_year, y_rate, alpha=0.4)\n",
    "plt.scatter(y_test, y_predict, alpha=0.2,\n",
    "            cmap='viridis')\n",
    "\n",
    "plt.xlabel(\"Actual Income\")\n",
    "plt.ylabel(\"Predict Income\")\n",
    "plt.title(\"Monthly Income\")\n",
    "# plt.colorbar()\n",
    "print('The closer the graph is to a straight line, the more accurate it is.')\n",
    "plt.show()\n",
    "# plt.show()"
   ]
  },
  {
   "cell_type": "markdown",
   "metadata": {},
   "source": [
    "# lr.coef_"
   ]
  },
  {
   "cell_type": "code",
   "execution_count": 94,
   "metadata": {},
   "outputs": [
    {
     "name": "stdout",
     "output_type": "stream",
     "text": [
      "Program Accuracy (Closer to 1, More Accurate)\n",
      "0.8632954169460687\n",
      "0.8543383140807128\n"
     ]
    }
   ],
   "source": [
    "print('Program Accuracy (Closer to 1, More Accurate)')\n",
    "print(lr.score(x_train, y_train))\n",
    "print(lr.score(x_test, y_test))"
   ]
  },
  {
   "cell_type": "code",
   "execution_count": 96,
   "metadata": {},
   "outputs": [
    {
     "name": "stdout",
     "output_type": "stream",
     "text": [
      "Please enter the number of household members: 1\n",
      "Please enter the age of the householder: 50\n",
      "Please enter your income quintile: 3\n",
      "1241473 원\n"
     ]
    }
   ],
   "source": [
    "input1 = input(\"Please enter the number of household members: \")\n",
    "input1 = int(input1)\n",
    "\n",
    "input2 = input(\"Please enter the age of the householder: \")\n",
    "input2 = int(input2)\n",
    "\n",
    "input3 = input(\"Please enter your income quintile: \")\n",
    "input3 = int(input3)\n",
    "\n",
    "result = []\n",
    "result.append(input1)\n",
    "result.append(input2)\n",
    "result.append(input3)\n",
    "temp = []\n",
    "temp.append(result)\n",
    "my_predict = lr.predict(temp)\n",
    "my_predict = int(my_predict)\n",
    "print(my_predict, '원')"
   ]
  },
  {
   "cell_type": "code",
   "execution_count": null,
   "metadata": {},
   "outputs": [],
   "source": []
  }
 ],
 "metadata": {
  "kernelspec": {
   "display_name": "Python 3",
   "language": "python",
   "name": "python3"
  },
  "language_info": {
   "codemirror_mode": {
    "name": "ipython",
    "version": 3
   },
   "file_extension": ".py",
   "mimetype": "text/x-python",
   "name": "python",
   "nbconvert_exporter": "python",
   "pygments_lexer": "ipython3",
   "version": "3.8.5"
  }
 },
 "nbformat": 4,
 "nbformat_minor": 5
}

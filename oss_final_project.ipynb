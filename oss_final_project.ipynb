{
 "cells": [
  {
   "cell_type": "code",
   "execution_count": 1,
   "metadata": {},
   "outputs": [],
   "source": [
    "from sklearn.linear_model import LinearRegression\n",
    "import pandas as pd\n",
    "import numpy as np\n",
    "import matplotlib.pyplot as plt"
   ]
  },
  {
   "cell_type": "code",
   "execution_count": 2,
   "metadata": {},
   "outputs": [],
   "source": [
    "# 채무 gap 평균 증가량을 (21개 기준)으로 평균 값을 낸 뒤\n",
    "# 2020년 채무 gdp에 더한 뒤 나눴을 때 60%가 넘는지 확인한뒤\n",
    "# 넘지 않는다면 2021년 채무 gdp를 더해 다시 평균 증가량을 구해준뒤\n",
    "# 다시 나눠 60%가 넘는지 확인한 뒤 60%가 넘을 때까지 확인한다.\n",
    "\n",
    "# 그런 다음 linear regression을 이용하여 그래프 등을 그린다!"
   ]
  },
  {
   "cell_type": "code",
   "execution_count": 55,
   "metadata": {},
   "outputs": [
    {
     "data": {
      "text/html": [
       "<div>\n",
       "<style scoped>\n",
       "    .dataframe tbody tr th:only-of-type {\n",
       "        vertical-align: middle;\n",
       "    }\n",
       "\n",
       "    .dataframe tbody tr th {\n",
       "        vertical-align: top;\n",
       "    }\n",
       "\n",
       "    .dataframe thead th {\n",
       "        text-align: right;\n",
       "    }\n",
       "</style>\n",
       "<table border=\"1\" class=\"dataframe\">\n",
       "  <thead>\n",
       "    <tr style=\"text-align: right;\">\n",
       "      <th></th>\n",
       "      <th>Unnamed: 0</th>\n",
       "      <th>나라</th>\n",
       "      <th>수출건수</th>\n",
       "      <th>수출금액</th>\n",
       "      <th>수입건수</th>\n",
       "      <th>수입금액</th>\n",
       "      <th>무역수지</th>\n",
       "      <th>인구</th>\n",
       "      <th>채무율</th>\n",
       "    </tr>\n",
       "  </thead>\n",
       "  <tbody>\n",
       "    <tr>\n",
       "      <th>0</th>\n",
       "      <td>2011</td>\n",
       "      <td>미국</td>\n",
       "      <td>719599</td>\n",
       "      <td>56207703</td>\n",
       "      <td>4137884</td>\n",
       "      <td>44569029</td>\n",
       "      <td>11638673</td>\n",
       "      <td>330425184</td>\n",
       "      <td>130.883</td>\n",
       "    </tr>\n",
       "    <tr>\n",
       "      <th>1</th>\n",
       "      <td>2011</td>\n",
       "      <td>일본</td>\n",
       "      <td>629167</td>\n",
       "      <td>39679706</td>\n",
       "      <td>946410</td>\n",
       "      <td>68320170</td>\n",
       "      <td>-28640464</td>\n",
       "      <td>125960000</td>\n",
       "      <td>222.043</td>\n",
       "    </tr>\n",
       "    <tr>\n",
       "      <th>2</th>\n",
       "      <td>2011</td>\n",
       "      <td>멕시코</td>\n",
       "      <td>101660</td>\n",
       "      <td>9729059</td>\n",
       "      <td>39857</td>\n",
       "      <td>2315698</td>\n",
       "      <td>7413361</td>\n",
       "      <td>126200000</td>\n",
       "      <td>37.141</td>\n",
       "    </tr>\n",
       "    <tr>\n",
       "      <th>3</th>\n",
       "      <td>2011</td>\n",
       "      <td>독일</td>\n",
       "      <td>143401</td>\n",
       "      <td>9500927</td>\n",
       "      <td>532021</td>\n",
       "      <td>16962579</td>\n",
       "      <td>-7461652</td>\n",
       "      <td>83783942</td>\n",
       "      <td>87.358</td>\n",
       "    </tr>\n",
       "    <tr>\n",
       "      <th>4</th>\n",
       "      <td>2011</td>\n",
       "      <td>호주</td>\n",
       "      <td>103411</td>\n",
       "      <td>8163845</td>\n",
       "      <td>188121</td>\n",
       "      <td>26316304</td>\n",
       "      <td>-18152459</td>\n",
       "      <td>25371700</td>\n",
       "      <td>46.293</td>\n",
       "    </tr>\n",
       "  </tbody>\n",
       "</table>\n",
       "</div>"
      ],
      "text/plain": [
       "   Unnamed: 0   나라    수출건수      수출금액     수입건수      수입금액      무역수지         인구  \\\n",
       "0        2011   미국  719599  56207703  4137884  44569029  11638673  330425184   \n",
       "1        2011   일본  629167  39679706   946410  68320170 -28640464  125960000   \n",
       "2        2011  멕시코  101660   9729059    39857   2315698   7413361  126200000   \n",
       "3        2011   독일  143401   9500927   532021  16962579  -7461652   83783942   \n",
       "4        2011   호주  103411   8163845   188121  26316304 -18152459   25371700   \n",
       "\n",
       "       채무율  \n",
       "0  130.883  \n",
       "1  222.043  \n",
       "2   37.141  \n",
       "3   87.358  \n",
       "4   46.293  "
      ]
     },
     "execution_count": 55,
     "metadata": {},
     "output_type": "execute_result"
    }
   ],
   "source": [
    "df = pd.read_csv(\"final_final.csv\")\n",
    "df.dropna()\n",
    "\n",
    "df.head()"
   ]
  },
  {
   "cell_type": "code",
   "execution_count": 56,
   "metadata": {},
   "outputs": [],
   "source": [
    "from sklearn.model_selection import train_test_split\n",
    "\n",
    "#train data X = (현재까지 평균 gdp, 현재까지 평균 채무, 현재 gdp, 현재 채무)\n",
    "#train data Y = (다음 년도 gdp, 다음 년도 채무)\n",
    "\n",
    "x = df[['수출건수','수출금액', '수입건수', '수입금액','무역수지', '인구']]\n",
    "y = df[['채무율']]\n",
    "\n",
    "\n",
    "x_train, x_test, y_train, y_test = train_test_split(x, y, train_size=0.7, test_size=0.3)\n"
   ]
  },
  {
   "cell_type": "code",
   "execution_count": 57,
   "metadata": {},
   "outputs": [
    {
     "data": {
      "text/plain": [
       "LinearRegression()"
      ]
     },
     "execution_count": 57,
     "metadata": {},
     "output_type": "execute_result"
    }
   ],
   "source": [
    "lr = LinearRegression()\n",
    "lr.fit(x_train, y_train)"
   ]
  },
  {
   "cell_type": "code",
   "execution_count": 58,
   "metadata": {},
   "outputs": [],
   "source": [
    "y_predict = lr.predict(x_test)\n",
    "# y_predict1 = y_predict\n",
    "# y_predict2 = y_predict\n",
    "# print(y_predict)\n",
    "# # print(y_predict)\n",
    "# print(y_predict.size)\n",
    "# range1 = y_predict.size/2\n",
    "# range1 = int(range1)\n",
    "# y_year = []\n",
    "# y_rate = []\n",
    "# print(range1)\n",
    "# for i in range(1, range1+1):\n",
    "#     y_year = np.append(y_year, y_predict[i-1][1])\n",
    "#     y_rate = np.append(y_rate, y_predict[i-1][0])\n",
    "# print(y_year.size)\n",
    "# print(y_rate.size)\n",
    "# print(y_year)\n",
    "# print(y_rate)"
   ]
  },
  {
   "cell_type": "markdown",
   "metadata": {},
   "source": [
    "# lr.coef_"
   ]
  },
  {
   "cell_type": "code",
   "execution_count": 60,
   "metadata": {},
   "outputs": [
    {
     "data": {
      "text/plain": [
       "array([74.25117374])"
      ]
     },
     "execution_count": 60,
     "metadata": {},
     "output_type": "execute_result"
    }
   ],
   "source": [
    "lr.intercept_"
   ]
  },
  {
   "cell_type": "code",
   "execution_count": 61,
   "metadata": {},
   "outputs": [
    {
     "name": "stdout",
     "output_type": "stream",
     "text": [
      "0.49410580561213957\n",
      "0.1539842944053954\n"
     ]
    }
   ],
   "source": [
    "print(lr.score(x_train, y_train))\n",
    "print(lr.score(x_test, y_test))"
   ]
  },
  {
   "cell_type": "code",
   "execution_count": 62,
   "metadata": {},
   "outputs": [
    {
     "name": "stdout",
     "output_type": "stream",
     "text": [
      "0.4914007385094994\n",
      "0.11997994920763688\n"
     ]
    }
   ],
   "source": [
    "from sklearn.linear_model import Ridge\n",
    "\n",
    "#저희가 원래 하던 방식이 아닌 수업 ppt week10 40page Ridge라는 방식으로 해도 크게 성능이 좋아 지지 않습니다\n",
    "#더 좋은 데이터를 찾아서 넣으면 성능이 더 좋아질 듯 합니다!\n",
    "ridge = Ridge(alpha=0.01, normalize=True).fit(x_train, y_train)\n",
    "print(ridge.score(x_train, y_train))\n",
    "print(ridge.score(x_test, y_test))"
   ]
  },
  {
   "cell_type": "code",
   "execution_count": null,
   "metadata": {},
   "outputs": [],
   "source": []
  }
 ],
 "metadata": {
  "kernelspec": {
   "display_name": "Python 3",
   "language": "python",
   "name": "python3"
  },
  "language_info": {
   "codemirror_mode": {
    "name": "ipython",
    "version": 3
   },
   "file_extension": ".py",
   "mimetype": "text/x-python",
   "name": "python",
   "nbconvert_exporter": "python",
   "pygments_lexer": "ipython3",
   "version": "3.8.5"
  }
 },
 "nbformat": 4,
 "nbformat_minor": 5
}
